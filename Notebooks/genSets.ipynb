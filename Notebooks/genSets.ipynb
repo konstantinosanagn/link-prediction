{
 "cells": [
  {
   "cell_type": "code",
   "execution_count": 4,
   "id": "abea34f7-8d8f-4536-90de-a77b1b0089c0",
   "metadata": {
    "tags": []
   },
   "outputs": [],
   "source": [
    "from typing import List, Optional\n",
    "from llama import Llama, Dialog\n",
    "\n",
    "import fire\n",
    "import json\n",
    "import random\n",
    "import pandas as pd\n",
    "\n",
    "# Sklearn:\n",
    "from sklearn.metrics import precision_score, recall_score, f1_score\n",
    "from sklearn.model_selection import train_test_split\n",
    "\n",
    "# Parse json and return comments\n",
    "def parse_dataset(file_path):\n",
    "    comments = []\n",
    "    with open(file_path, 'r') as file:\n",
    "        for line in file:\n",
    "            comment = json.loads(line)\n",
    "            comments.append(comment)\n",
    "    return comments\n",
    "\n",
    "# Oragnize dataset: Generate two validation sets (2 x 30%), a training set for few shot (10%), and a test set (30%)\n",
    "dataset_file_path = 'cdcp_type_edge_annot.jsonlist'\n",
    "\n",
    "# Turn dataset into a list of comments\n",
    "all_comments = parse_dataset(dataset_file_path)\n",
    "\n",
    "# Step 1: Split into Validation Set (60%) and Remaining Set (40%)\n",
    "validation_set, remaining_set = train_test_split(all_comments, test_size=0.4, random_state=42)\n",
    "\n",
    "# Step 2: Split Validation Set in Half\n",
    "validation_set1, validation_set2 = train_test_split(validation_set, test_size=0.5, random_state=42)\n",
    "\n",
    "# Step 3: Split Remaining Set into Test Set and Training Set\n",
    "test_set, training_set = train_test_split(remaining_set, test_size=0.75, random_state=42)\n",
    "\n",
    "# Export datasets to separate files\n",
    "def export_dataset(data, file_name):\n",
    "    with open(file_name, 'w') as file:\n",
    "        json.dump(data, file)\n",
    "\n",
    "export_dataset(validation_set1, 'validation_set1.json')\n",
    "export_dataset(validation_set2, 'validation_set2.json')\n",
    "export_dataset(training_set, 'training_set.json')\n",
    "export_dataset(test_set, 'test_set.json')"
   ]
  },
  {
   "cell_type": "code",
   "execution_count": null,
   "id": "5e9d187b-9138-4ac3-9213-c8796216d2c9",
   "metadata": {},
   "outputs": [],
   "source": []
  },
  {
   "cell_type": "code",
   "execution_count": null,
   "id": "ba0370b7-3a72-42f7-931a-f7cf5449c7db",
   "metadata": {},
   "outputs": [],
   "source": []
  }
 ],
 "metadata": {
  "kernelspec": {
   "display_name": "Python 3 (ipykernel)",
   "language": "python",
   "name": "python3"
  },
  "language_info": {
   "codemirror_mode": {
    "name": "ipython",
    "version": 3
   },
   "file_extension": ".py",
   "mimetype": "text/x-python",
   "name": "python",
   "nbconvert_exporter": "python",
   "pygments_lexer": "ipython3",
   "version": "3.11.0"
  }
 },
 "nbformat": 4,
 "nbformat_minor": 5
}
